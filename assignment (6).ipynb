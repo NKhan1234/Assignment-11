{
 "cells": [
  {
   "cell_type": "code",
   "execution_count": null,
   "id": "55497fbb-2068-4f64-9002-cfe37f99f6e1",
   "metadata": {},
   "outputs": [],
   "source": [
    "# Q1. What is an API? Give an example, where an API is used in real life."
   ]
  },
  {
   "cell_type": "code",
   "execution_count": null,
   "id": "5e2a2de3-cf4e-4545-af4b-ce6e5d103f5b",
   "metadata": {},
   "outputs": [],
   "source": [
    "# A1.\n",
    "    # In practice, an API can be used to connect virtually any processes. Here are a few common examples of APIs: Sharing flight \n",
    "    # information between airlines and travel sites. Using Google Maps in a rideshare app."
   ]
  },
  {
   "cell_type": "code",
   "execution_count": null,
   "id": "200444df-552a-45a3-8a0c-4f8304f2b7a5",
   "metadata": {},
   "outputs": [],
   "source": [
    "# Q2. Give advantages and disadvantages of using API."
   ]
  },
  {
   "cell_type": "code",
   "execution_count": null,
   "id": "466a5053-ac4d-43a3-aaea-b66521bd3d3e",
   "metadata": {},
   "outputs": [],
   "source": [
    "# A2.Advantages:1.Increased Interoperability: API solutions enable different software systems to communicate with each other, \n",
    "#     regardless of their programming language or platform. This enhances the interoperability between systems, allowing for\n",
    "#     the exchange of data and functionality.\n",
    "#     2.Improved Efficiency: API driven infrastructures enable developers to reuse code and functionality from existing \n",
    "#     software systems, saving time and reducing the amount of code that needs to be written from scratch.\n",
    "#     3.Better User Experience: APIs can enable third-party developers to create applications that integrate with existing \n",
    "#     software systems, providing a better user experience and increased functionality.\n",
    "    \n",
    "#     Disadvantages:1.Security Concerns: API infrastructures can be vulnerable to security breaches, such as SQL injection \n",
    "#     attacks and cross-site scripting (XSS) attacks, making it crucial to implement security measures to protect against these threats.\n",
    "#     2.Complexity: APIs can be complex, requiring a significant amount of development effort to implement and maintain.\n",
    "#     3.Compatibility Issues: APIs can have compatibility issues between different versions of the same software system or between \n",
    "#     different systems, which can lead to errors and system failures."
   ]
  },
  {
   "cell_type": "code",
   "execution_count": null,
   "id": "46afc4fb-5ce8-41b1-be27-122add766683",
   "metadata": {},
   "outputs": [],
   "source": [
    "# Q3. What is a Web API? Differentiate between API and Web API."
   ]
  },
  {
   "cell_type": "code",
   "execution_count": null,
   "id": "fd9a013c-9182-42c2-8162-5418e779c07b",
   "metadata": {},
   "outputs": [],
   "source": [
    "# A3.API stands for Application Programming Interface. A Web API is an application programming interface for the Web. \n",
    "#     A Browser API can extend the functionality of a web browser.\n",
    "    # APIs allow applications to communicate, while web services allow machines to communicate. Web Services requires a \n",
    "    # network connection while APIs may or may not require a network for their operability. Web services require SOAP and XML,\n",
    "    # which are no longer the most popular standard."
   ]
  },
  {
   "cell_type": "code",
   "execution_count": null,
   "id": "95a4c258-dc4d-4c70-8a56-1fe65fb18854",
   "metadata": {},
   "outputs": [],
   "source": [
    "# Q4. Explain REST and SOAP Architecture. Mention shortcomings of SOAP."
   ]
  },
  {
   "cell_type": "code",
   "execution_count": null,
   "id": "b5256413-f48c-4ac2-89d2-399dbc062fd7",
   "metadata": {},
   "outputs": [],
   "source": [
    "# A4.SOAP messages are larger, which makes communication slower. REST has faster performance due to smaller messages \n",
    "#     and caching support. SOAP is difficult to scale.\n",
    "    \n",
    "#     For instance, SOAP APIs are: Less performant: SOAP messages can be quite large due to their verbose XML-based structure, \n",
    "#     which can lead to greater bandwidth usage and slower performance. Complex: SOAP can introduce complexity into a system due \n",
    "#     to its strongly typed and extensible nature."
   ]
  },
  {
   "cell_type": "code",
   "execution_count": null,
   "id": "d2ff8492-82d2-4636-9fed-b513b7291fa7",
   "metadata": {},
   "outputs": [],
   "source": [
    "# Q5. Differentiate between REST and SOAP."
   ]
  },
  {
   "cell_type": "code",
   "execution_count": null,
   "id": "289eea77-8b41-4076-b89d-b86150664d8a",
   "metadata": {},
   "outputs": [],
   "source": [
    "# A5.SOAP and REST are two different approaches to API design. The SOAP approach is highly structured and uses XML data format. \n",
    "#     REST is more flexible and allows applications to exchange data in multiple formats."
   ]
  }
 ],
 "metadata": {
  "kernelspec": {
   "display_name": "Python 3 (ipykernel)",
   "language": "python",
   "name": "python3"
  },
  "language_info": {
   "codemirror_mode": {
    "name": "ipython",
    "version": 3
   },
   "file_extension": ".py",
   "mimetype": "text/x-python",
   "name": "python",
   "nbconvert_exporter": "python",
   "pygments_lexer": "ipython3",
   "version": "3.10.8"
  }
 },
 "nbformat": 4,
 "nbformat_minor": 5
}
